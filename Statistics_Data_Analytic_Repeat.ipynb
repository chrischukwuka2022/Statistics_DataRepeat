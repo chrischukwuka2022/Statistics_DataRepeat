{
 "cells": [
  {
   "cell_type": "code",
   "execution_count": 14,
   "id": "2ca41b0d",
   "metadata": {},
   "outputs": [],
   "source": [
    "import pandas as pd\n",
    "import numpy as np\n",
    "import lightgbm as lgb\n",
    "import seaborn as sns\n",
    "import matplotlib.pyplot as plt\n",
    "from scipy import stats"
   ]
  },
  {
   "cell_type": "code",
   "execution_count": 15,
   "id": "ddae92c6",
   "metadata": {},
   "outputs": [],
   "source": [
    "# loading datasets into dataframe\n",
    "df_ireland = pd.read_csv(\"HSM09.20230503130900.csv\")\n",
    "df_Germany = pd.read_csv(\"Germany-data1.csv\")"
   ]
  },
  {
   "cell_type": "code",
   "execution_count": 16,
   "id": "737a2426",
   "metadata": {},
   "outputs": [
    {
     "data": {
      "text/html": [
       "<div>\n",
       "<style scoped>\n",
       "    .dataframe tbody tr th:only-of-type {\n",
       "        vertical-align: middle;\n",
       "    }\n",
       "\n",
       "    .dataframe tbody tr th {\n",
       "        vertical-align: top;\n",
       "    }\n",
       "\n",
       "    .dataframe thead th {\n",
       "        text-align: right;\n",
       "    }\n",
       "</style>\n",
       "<table border=\"1\" class=\"dataframe\">\n",
       "  <thead>\n",
       "    <tr style=\"text-align: right;\">\n",
       "      <th></th>\n",
       "      <th>STATISTIC</th>\n",
       "      <th>STATISTIC Label</th>\n",
       "      <th>TLIST(M1)</th>\n",
       "      <th>Month</th>\n",
       "      <th>C02196V02652</th>\n",
       "      <th>State</th>\n",
       "      <th>UNIT</th>\n",
       "      <th>VALUE</th>\n",
       "    </tr>\n",
       "  </thead>\n",
       "  <tbody>\n",
       "    <tr>\n",
       "      <th>0</th>\n",
       "      <td>HSM09</td>\n",
       "      <td>House Construction Cost Index</td>\n",
       "      <td>1975M01</td>\n",
       "      <td>1975M01</td>\n",
       "      <td>-</td>\n",
       "      <td>State</td>\n",
       "      <td>Base Jan 1991=100</td>\n",
       "      <td>18.3</td>\n",
       "    </tr>\n",
       "    <tr>\n",
       "      <th>1</th>\n",
       "      <td>HSM09</td>\n",
       "      <td>House Construction Cost Index</td>\n",
       "      <td>1975M02</td>\n",
       "      <td>1975M02</td>\n",
       "      <td>-</td>\n",
       "      <td>State</td>\n",
       "      <td>Base Jan 1991=100</td>\n",
       "      <td>18.7</td>\n",
       "    </tr>\n",
       "    <tr>\n",
       "      <th>2</th>\n",
       "      <td>HSM09</td>\n",
       "      <td>House Construction Cost Index</td>\n",
       "      <td>1975M03</td>\n",
       "      <td>1975M03</td>\n",
       "      <td>-</td>\n",
       "      <td>State</td>\n",
       "      <td>Base Jan 1991=100</td>\n",
       "      <td>18.8</td>\n",
       "    </tr>\n",
       "    <tr>\n",
       "      <th>3</th>\n",
       "      <td>HSM09</td>\n",
       "      <td>House Construction Cost Index</td>\n",
       "      <td>1975M04</td>\n",
       "      <td>1975M04</td>\n",
       "      <td>-</td>\n",
       "      <td>State</td>\n",
       "      <td>Base Jan 1991=100</td>\n",
       "      <td>19.6</td>\n",
       "    </tr>\n",
       "    <tr>\n",
       "      <th>4</th>\n",
       "      <td>HSM09</td>\n",
       "      <td>House Construction Cost Index</td>\n",
       "      <td>1975M05</td>\n",
       "      <td>1975M05</td>\n",
       "      <td>-</td>\n",
       "      <td>State</td>\n",
       "      <td>Base Jan 1991=100</td>\n",
       "      <td>19.8</td>\n",
       "    </tr>\n",
       "    <tr>\n",
       "      <th>...</th>\n",
       "      <td>...</td>\n",
       "      <td>...</td>\n",
       "      <td>...</td>\n",
       "      <td>...</td>\n",
       "      <td>...</td>\n",
       "      <td>...</td>\n",
       "      <td>...</td>\n",
       "      <td>...</td>\n",
       "    </tr>\n",
       "    <tr>\n",
       "      <th>508</th>\n",
       "      <td>HSM09</td>\n",
       "      <td>House Construction Cost Index</td>\n",
       "      <td>2017M04</td>\n",
       "      <td>2017M04</td>\n",
       "      <td>-</td>\n",
       "      <td>State</td>\n",
       "      <td>Base Jan 1991=100</td>\n",
       "      <td>210.7</td>\n",
       "    </tr>\n",
       "    <tr>\n",
       "      <th>509</th>\n",
       "      <td>HSM09</td>\n",
       "      <td>House Construction Cost Index</td>\n",
       "      <td>2017M05</td>\n",
       "      <td>2017M05</td>\n",
       "      <td>-</td>\n",
       "      <td>State</td>\n",
       "      <td>Base Jan 1991=100</td>\n",
       "      <td>211.1</td>\n",
       "    </tr>\n",
       "    <tr>\n",
       "      <th>510</th>\n",
       "      <td>HSM09</td>\n",
       "      <td>House Construction Cost Index</td>\n",
       "      <td>2017M06</td>\n",
       "      <td>2017M06</td>\n",
       "      <td>-</td>\n",
       "      <td>State</td>\n",
       "      <td>Base Jan 1991=100</td>\n",
       "      <td>211.2</td>\n",
       "    </tr>\n",
       "    <tr>\n",
       "      <th>511</th>\n",
       "      <td>HSM09</td>\n",
       "      <td>House Construction Cost Index</td>\n",
       "      <td>2017M07</td>\n",
       "      <td>2017M07</td>\n",
       "      <td>-</td>\n",
       "      <td>State</td>\n",
       "      <td>Base Jan 1991=100</td>\n",
       "      <td>211.4</td>\n",
       "    </tr>\n",
       "    <tr>\n",
       "      <th>512</th>\n",
       "      <td>HSM09</td>\n",
       "      <td>House Construction Cost Index</td>\n",
       "      <td>2017M08</td>\n",
       "      <td>2017M08</td>\n",
       "      <td>-</td>\n",
       "      <td>State</td>\n",
       "      <td>Base Jan 1991=100</td>\n",
       "      <td>211.4</td>\n",
       "    </tr>\n",
       "  </tbody>\n",
       "</table>\n",
       "<p>513 rows × 8 columns</p>\n",
       "</div>"
      ],
      "text/plain": [
       "    STATISTIC                STATISTIC Label TLIST(M1)    Month C02196V02652  \\\n",
       "0       HSM09  House Construction Cost Index   1975M01  1975M01            -   \n",
       "1       HSM09  House Construction Cost Index   1975M02  1975M02            -   \n",
       "2       HSM09  House Construction Cost Index   1975M03  1975M03            -   \n",
       "3       HSM09  House Construction Cost Index   1975M04  1975M04            -   \n",
       "4       HSM09  House Construction Cost Index   1975M05  1975M05            -   \n",
       "..        ...                            ...       ...      ...          ...   \n",
       "508     HSM09  House Construction Cost Index   2017M04  2017M04            -   \n",
       "509     HSM09  House Construction Cost Index   2017M05  2017M05            -   \n",
       "510     HSM09  House Construction Cost Index   2017M06  2017M06            -   \n",
       "511     HSM09  House Construction Cost Index   2017M07  2017M07            -   \n",
       "512     HSM09  House Construction Cost Index   2017M08  2017M08            -   \n",
       "\n",
       "     State               UNIT  VALUE  \n",
       "0    State  Base Jan 1991=100   18.3  \n",
       "1    State  Base Jan 1991=100   18.7  \n",
       "2    State  Base Jan 1991=100   18.8  \n",
       "3    State  Base Jan 1991=100   19.6  \n",
       "4    State  Base Jan 1991=100   19.8  \n",
       "..     ...                ...    ...  \n",
       "508  State  Base Jan 1991=100  210.7  \n",
       "509  State  Base Jan 1991=100  211.1  \n",
       "510  State  Base Jan 1991=100  211.2  \n",
       "511  State  Base Jan 1991=100  211.4  \n",
       "512  State  Base Jan 1991=100  211.4  \n",
       "\n",
       "[513 rows x 8 columns]"
      ]
     },
     "execution_count": 16,
     "metadata": {},
     "output_type": "execute_result"
    }
   ],
   "source": [
    "# displaying the dataframe\n",
    "df_ireland"
   ]
  },
  {
   "cell_type": "code",
   "execution_count": 17,
   "id": "95436428",
   "metadata": {},
   "outputs": [],
   "source": [
    "# replacing M with -\n",
    "df_ireland['Month'] = df_ireland['Month'].str.replace('M', '-')"
   ]
  },
  {
   "cell_type": "code",
   "execution_count": 18,
   "id": "bd0b4411",
   "metadata": {},
   "outputs": [
    {
     "data": {
      "text/html": [
       "<div>\n",
       "<style scoped>\n",
       "    .dataframe tbody tr th:only-of-type {\n",
       "        vertical-align: middle;\n",
       "    }\n",
       "\n",
       "    .dataframe tbody tr th {\n",
       "        vertical-align: top;\n",
       "    }\n",
       "\n",
       "    .dataframe thead th {\n",
       "        text-align: right;\n",
       "    }\n",
       "</style>\n",
       "<table border=\"1\" class=\"dataframe\">\n",
       "  <thead>\n",
       "    <tr style=\"text-align: right;\">\n",
       "      <th></th>\n",
       "      <th>STATISTIC</th>\n",
       "      <th>STATISTIC Label</th>\n",
       "      <th>TLIST(M1)</th>\n",
       "      <th>Month</th>\n",
       "      <th>C02196V02652</th>\n",
       "      <th>State</th>\n",
       "      <th>UNIT</th>\n",
       "      <th>VALUE</th>\n",
       "    </tr>\n",
       "  </thead>\n",
       "  <tbody>\n",
       "    <tr>\n",
       "      <th>0</th>\n",
       "      <td>HSM09</td>\n",
       "      <td>House Construction Cost Index</td>\n",
       "      <td>1975M01</td>\n",
       "      <td>1975-01</td>\n",
       "      <td>-</td>\n",
       "      <td>State</td>\n",
       "      <td>Base Jan 1991=100</td>\n",
       "      <td>18.3</td>\n",
       "    </tr>\n",
       "    <tr>\n",
       "      <th>1</th>\n",
       "      <td>HSM09</td>\n",
       "      <td>House Construction Cost Index</td>\n",
       "      <td>1975M02</td>\n",
       "      <td>1975-02</td>\n",
       "      <td>-</td>\n",
       "      <td>State</td>\n",
       "      <td>Base Jan 1991=100</td>\n",
       "      <td>18.7</td>\n",
       "    </tr>\n",
       "    <tr>\n",
       "      <th>2</th>\n",
       "      <td>HSM09</td>\n",
       "      <td>House Construction Cost Index</td>\n",
       "      <td>1975M03</td>\n",
       "      <td>1975-03</td>\n",
       "      <td>-</td>\n",
       "      <td>State</td>\n",
       "      <td>Base Jan 1991=100</td>\n",
       "      <td>18.8</td>\n",
       "    </tr>\n",
       "    <tr>\n",
       "      <th>3</th>\n",
       "      <td>HSM09</td>\n",
       "      <td>House Construction Cost Index</td>\n",
       "      <td>1975M04</td>\n",
       "      <td>1975-04</td>\n",
       "      <td>-</td>\n",
       "      <td>State</td>\n",
       "      <td>Base Jan 1991=100</td>\n",
       "      <td>19.6</td>\n",
       "    </tr>\n",
       "    <tr>\n",
       "      <th>4</th>\n",
       "      <td>HSM09</td>\n",
       "      <td>House Construction Cost Index</td>\n",
       "      <td>1975M05</td>\n",
       "      <td>1975-05</td>\n",
       "      <td>-</td>\n",
       "      <td>State</td>\n",
       "      <td>Base Jan 1991=100</td>\n",
       "      <td>19.8</td>\n",
       "    </tr>\n",
       "    <tr>\n",
       "      <th>...</th>\n",
       "      <td>...</td>\n",
       "      <td>...</td>\n",
       "      <td>...</td>\n",
       "      <td>...</td>\n",
       "      <td>...</td>\n",
       "      <td>...</td>\n",
       "      <td>...</td>\n",
       "      <td>...</td>\n",
       "    </tr>\n",
       "    <tr>\n",
       "      <th>508</th>\n",
       "      <td>HSM09</td>\n",
       "      <td>House Construction Cost Index</td>\n",
       "      <td>2017M04</td>\n",
       "      <td>2017-04</td>\n",
       "      <td>-</td>\n",
       "      <td>State</td>\n",
       "      <td>Base Jan 1991=100</td>\n",
       "      <td>210.7</td>\n",
       "    </tr>\n",
       "    <tr>\n",
       "      <th>509</th>\n",
       "      <td>HSM09</td>\n",
       "      <td>House Construction Cost Index</td>\n",
       "      <td>2017M05</td>\n",
       "      <td>2017-05</td>\n",
       "      <td>-</td>\n",
       "      <td>State</td>\n",
       "      <td>Base Jan 1991=100</td>\n",
       "      <td>211.1</td>\n",
       "    </tr>\n",
       "    <tr>\n",
       "      <th>510</th>\n",
       "      <td>HSM09</td>\n",
       "      <td>House Construction Cost Index</td>\n",
       "      <td>2017M06</td>\n",
       "      <td>2017-06</td>\n",
       "      <td>-</td>\n",
       "      <td>State</td>\n",
       "      <td>Base Jan 1991=100</td>\n",
       "      <td>211.2</td>\n",
       "    </tr>\n",
       "    <tr>\n",
       "      <th>511</th>\n",
       "      <td>HSM09</td>\n",
       "      <td>House Construction Cost Index</td>\n",
       "      <td>2017M07</td>\n",
       "      <td>2017-07</td>\n",
       "      <td>-</td>\n",
       "      <td>State</td>\n",
       "      <td>Base Jan 1991=100</td>\n",
       "      <td>211.4</td>\n",
       "    </tr>\n",
       "    <tr>\n",
       "      <th>512</th>\n",
       "      <td>HSM09</td>\n",
       "      <td>House Construction Cost Index</td>\n",
       "      <td>2017M08</td>\n",
       "      <td>2017-08</td>\n",
       "      <td>-</td>\n",
       "      <td>State</td>\n",
       "      <td>Base Jan 1991=100</td>\n",
       "      <td>211.4</td>\n",
       "    </tr>\n",
       "  </tbody>\n",
       "</table>\n",
       "<p>513 rows × 8 columns</p>\n",
       "</div>"
      ],
      "text/plain": [
       "    STATISTIC                STATISTIC Label TLIST(M1)    Month C02196V02652  \\\n",
       "0       HSM09  House Construction Cost Index   1975M01  1975-01            -   \n",
       "1       HSM09  House Construction Cost Index   1975M02  1975-02            -   \n",
       "2       HSM09  House Construction Cost Index   1975M03  1975-03            -   \n",
       "3       HSM09  House Construction Cost Index   1975M04  1975-04            -   \n",
       "4       HSM09  House Construction Cost Index   1975M05  1975-05            -   \n",
       "..        ...                            ...       ...      ...          ...   \n",
       "508     HSM09  House Construction Cost Index   2017M04  2017-04            -   \n",
       "509     HSM09  House Construction Cost Index   2017M05  2017-05            -   \n",
       "510     HSM09  House Construction Cost Index   2017M06  2017-06            -   \n",
       "511     HSM09  House Construction Cost Index   2017M07  2017-07            -   \n",
       "512     HSM09  House Construction Cost Index   2017M08  2017-08            -   \n",
       "\n",
       "     State               UNIT  VALUE  \n",
       "0    State  Base Jan 1991=100   18.3  \n",
       "1    State  Base Jan 1991=100   18.7  \n",
       "2    State  Base Jan 1991=100   18.8  \n",
       "3    State  Base Jan 1991=100   19.6  \n",
       "4    State  Base Jan 1991=100   19.8  \n",
       "..     ...                ...    ...  \n",
       "508  State  Base Jan 1991=100  210.7  \n",
       "509  State  Base Jan 1991=100  211.1  \n",
       "510  State  Base Jan 1991=100  211.2  \n",
       "511  State  Base Jan 1991=100  211.4  \n",
       "512  State  Base Jan 1991=100  211.4  \n",
       "\n",
       "[513 rows x 8 columns]"
      ]
     },
     "execution_count": 18,
     "metadata": {},
     "output_type": "execute_result"
    }
   ],
   "source": [
    "# show the dataframe\n",
    "df_ireland"
   ]
  },
  {
   "cell_type": "code",
   "execution_count": 19,
   "id": "168e44ad",
   "metadata": {},
   "outputs": [],
   "source": [
    "#df_ireland = df_ireland[df_ireland['Month'] != '2007-O4']\n",
    "# Replace '2007-O4' with NaN\n",
    "#df_ireland['Month'] = df_ireland['Month'].replace('2007-O4', pd.NaT)"
   ]
  },
  {
   "cell_type": "code",
   "execution_count": 20,
   "id": "f003b299",
   "metadata": {},
   "outputs": [
    {
     "name": "stdout",
     "output_type": "stream",
     "text": [
      "Index(['STATISTIC', 'STATISTIC Label', 'TLIST(M1)', 'Month', 'C02196V02652',\n",
      "       'State', 'UNIT', 'VALUE'],\n",
      "      dtype='object')\n"
     ]
    }
   ],
   "source": [
    "print(df_ireland.columns)"
   ]
  },
  {
   "cell_type": "code",
   "execution_count": 21,
   "id": "a00cb46d",
   "metadata": {},
   "outputs": [],
   "source": [
    "# remove '2007-O4' value\n",
    "df_ireland = df_ireland[df_ireland['Month'] != '2007-O4']"
   ]
  },
  {
   "cell_type": "code",
   "execution_count": 22,
   "id": "d6fd4221",
   "metadata": {},
   "outputs": [
    {
     "name": "stderr",
     "output_type": "stream",
     "text": [
      "C:\\Users\\chris\\AppData\\Local\\Temp\\ipykernel_8112\\2764402531.py:2: SettingWithCopyWarning: \n",
      "A value is trying to be set on a copy of a slice from a DataFrame.\n",
      "Try using .loc[row_indexer,col_indexer] = value instead\n",
      "\n",
      "See the caveats in the documentation: https://pandas.pydata.org/pandas-docs/stable/user_guide/indexing.html#returning-a-view-versus-a-copy\n",
      "  df_ireland['Month'] = pd.to_datetime(df_ireland['Month'], format='%Y-%m')\n",
      "C:\\Users\\chris\\AppData\\Local\\Temp\\ipykernel_8112\\2764402531.py:3: SettingWithCopyWarning: \n",
      "A value is trying to be set on a copy of a slice from a DataFrame.\n",
      "Try using .loc[row_indexer,col_indexer] = value instead\n",
      "\n",
      "See the caveats in the documentation: https://pandas.pydata.org/pandas-docs/stable/user_guide/indexing.html#returning-a-view-versus-a-copy\n",
      "  df_ireland['Year'] = df_ireland['Month'].dt.year\n"
     ]
    }
   ],
   "source": [
    "#df_ireland['Month'] = df_ireland['Month'].str.replace('MO', '-')\n",
    "df_ireland['Month'] = pd.to_datetime(df_ireland['Month'], format='%Y-%m')\n",
    "df_ireland['Year'] = df_ireland['Month'].dt.year\n"
   ]
  },
  {
   "cell_type": "code",
   "execution_count": 23,
   "id": "6ac7a035",
   "metadata": {},
   "outputs": [
    {
     "name": "stdout",
     "output_type": "stream",
     "text": [
      "<class 'pandas.core.frame.DataFrame'>\n",
      "Int64Index: 512 entries, 0 to 512\n",
      "Data columns (total 9 columns):\n",
      " #   Column           Non-Null Count  Dtype         \n",
      "---  ------           --------------  -----         \n",
      " 0   STATISTIC        512 non-null    object        \n",
      " 1   STATISTIC Label  512 non-null    object        \n",
      " 2   TLIST(M1)        512 non-null    object        \n",
      " 3   Month            512 non-null    datetime64[ns]\n",
      " 4   C02196V02652     512 non-null    object        \n",
      " 5   State            512 non-null    object        \n",
      " 6   UNIT             512 non-null    object        \n",
      " 7   VALUE            512 non-null    float64       \n",
      " 8   Year             512 non-null    int64         \n",
      "dtypes: datetime64[ns](1), float64(1), int64(1), object(6)\n",
      "memory usage: 40.0+ KB\n"
     ]
    }
   ],
   "source": [
    "df_ireland.info()"
   ]
  },
  {
   "cell_type": "code",
   "execution_count": 24,
   "id": "2e714894",
   "metadata": {},
   "outputs": [],
   "source": [
    "cols = df_ireland.columns.tolist()\n",
    "cols = cols[-1:] + cols[:-1]\n",
    "df_ireland = df_ireland[cols]"
   ]
  },
  {
   "cell_type": "code",
   "execution_count": 25,
   "id": "dac9f6bf",
   "metadata": {},
   "outputs": [],
   "source": [
    "# renaming the column\n",
    "df_ireland=df_ireland.rename(columns={'VALUE': 'Cost-Ireland'})"
   ]
  },
  {
   "cell_type": "code",
   "execution_count": 26,
   "id": "fcb5ac93",
   "metadata": {},
   "outputs": [],
   "source": [
    "# Sort the dataframe by year\n",
    "df_ireland.sort_values(by='Year')\n",
    "\n",
    "# Calculate annual percent change for Cost column\n",
    "df_ireland['Annual%change'] = df_ireland['Cost-Ireland'].pct_change(periods=1)\n",
    "df_ireland['Annual%change'] = (1 + df_ireland['Annual%change']).pow(12) - 1"
   ]
  },
  {
   "cell_type": "code",
   "execution_count": 27,
   "id": "b1183f92",
   "metadata": {},
   "outputs": [
    {
     "data": {
      "text/html": [
       "<div>\n",
       "<style scoped>\n",
       "    .dataframe tbody tr th:only-of-type {\n",
       "        vertical-align: middle;\n",
       "    }\n",
       "\n",
       "    .dataframe tbody tr th {\n",
       "        vertical-align: top;\n",
       "    }\n",
       "\n",
       "    .dataframe thead th {\n",
       "        text-align: right;\n",
       "    }\n",
       "</style>\n",
       "<table border=\"1\" class=\"dataframe\">\n",
       "  <thead>\n",
       "    <tr style=\"text-align: right;\">\n",
       "      <th></th>\n",
       "      <th>Year</th>\n",
       "      <th>Cost-Ireland</th>\n",
       "      <th>Annual%change</th>\n",
       "    </tr>\n",
       "  </thead>\n",
       "  <tbody>\n",
       "    <tr>\n",
       "      <th>count</th>\n",
       "      <td>512.000000</td>\n",
       "      <td>512.000000</td>\n",
       "      <td>511.000000</td>\n",
       "    </tr>\n",
       "    <tr>\n",
       "      <th>mean</th>\n",
       "      <td>1995.835938</td>\n",
       "      <td>126.052344</td>\n",
       "      <td>0.073622</td>\n",
       "    </tr>\n",
       "    <tr>\n",
       "      <th>std</th>\n",
       "      <td>12.329956</td>\n",
       "      <td>63.650513</td>\n",
       "      <td>0.230492</td>\n",
       "    </tr>\n",
       "    <tr>\n",
       "      <th>min</th>\n",
       "      <td>1975.000000</td>\n",
       "      <td>18.300000</td>\n",
       "      <td>-0.619872</td>\n",
       "    </tr>\n",
       "    <tr>\n",
       "      <th>25%</th>\n",
       "      <td>1985.000000</td>\n",
       "      <td>78.800000</td>\n",
       "      <td>0.000000</td>\n",
       "    </tr>\n",
       "    <tr>\n",
       "      <th>50%</th>\n",
       "      <td>1996.000000</td>\n",
       "      <td>115.900000</td>\n",
       "      <td>0.012759</td>\n",
       "    </tr>\n",
       "    <tr>\n",
       "      <th>75%</th>\n",
       "      <td>2006.250000</td>\n",
       "      <td>198.275000</td>\n",
       "      <td>0.059098</td>\n",
       "    </tr>\n",
       "    <tr>\n",
       "      <th>max</th>\n",
       "      <td>2017.000000</td>\n",
       "      <td>211.400000</td>\n",
       "      <td>2.769370</td>\n",
       "    </tr>\n",
       "  </tbody>\n",
       "</table>\n",
       "</div>"
      ],
      "text/plain": [
       "              Year  Cost-Ireland  Annual%change\n",
       "count   512.000000    512.000000     511.000000\n",
       "mean   1995.835938    126.052344       0.073622\n",
       "std      12.329956     63.650513       0.230492\n",
       "min    1975.000000     18.300000      -0.619872\n",
       "25%    1985.000000     78.800000       0.000000\n",
       "50%    1996.000000    115.900000       0.012759\n",
       "75%    2006.250000    198.275000       0.059098\n",
       "max    2017.000000    211.400000       2.769370"
      ]
     },
     "execution_count": 27,
     "metadata": {},
     "output_type": "execute_result"
    }
   ],
   "source": [
    "# description of dataset\n",
    "df_ireland.describe()"
   ]
  },
  {
   "cell_type": "code",
   "execution_count": 28,
   "id": "77ebdf7e",
   "metadata": {},
   "outputs": [
    {
     "data": {
      "image/png": "[encoded data removed]",
      "text/plain": [
       "<Figure size 640x480 with 1 Axes>"
      ]
     },
     "metadata": {},
     "output_type": "display_data"
    }
   ],
   "source": [
    "# Create a line plot\n",
    "plt.plot(df_ireland['Month'], df_ireland['Cost-Ireland'])\n",
    "plt.title('House Construction Cost Index over Time')\n",
    "plt.xlabel('Time')\n",
    "plt.ylabel('House Construction Cost Index')\n",
    "plt.show()"
   ]
  },
  {
   "cell_type": "code",
   "execution_count": 29,
   "id": "2bd2ce43",
   "metadata": {},
   "outputs": [],
   "source": [
    "df_ireland = df_ireland.groupby('Year').mean()"
   ]
  },
  {
   "cell_type": "code",
   "execution_count": 30,
   "id": "0d411142",
   "metadata": {},
   "outputs": [],
   "source": [
    "# resetting of dataframe\n",
    "df_ireland = df_ireland.reset_index()\n"
   ]
  },
  {
   "cell_type": "code",
   "execution_count": 31,
   "id": "fe403ff5",
   "metadata": {},
   "outputs": [],
   "source": [
    "df_ireland = df_ireland[(df_ireland['Year'] >= 2001) & (df_ireland['Year'] <= 2017)][['Year', 'Cost-Ireland', 'Annual%change']]\n"
   ]
  },
  {
   "cell_type": "code",
   "execution_count": 50,
   "id": "646585b7",
   "metadata": {},
   "outputs": [
    {
     "data": {
      "text/html": [
       "<div>\n",
       "<style scoped>\n",
       "    .dataframe tbody tr th:only-of-type {\n",
       "        vertical-align: middle;\n",
       "    }\n",
       "\n",
       "    .dataframe tbody tr th {\n",
       "        vertical-align: top;\n",
       "    }\n",
       "\n",
       "    .dataframe thead th {\n",
       "        text-align: right;\n",
       "    }\n",
       "</style>\n",
       "<table border=\"1\" class=\"dataframe\">\n",
       "  <thead>\n",
       "    <tr style=\"text-align: right;\">\n",
       "      <th></th>\n",
       "      <th>Year</th>\n",
       "      <th>Cost-Ireland</th>\n",
       "      <th>Annual%change</th>\n",
       "    </tr>\n",
       "  </thead>\n",
       "  <tbody>\n",
       "    <tr>\n",
       "      <th>26</th>\n",
       "      <td>2001</td>\n",
       "      <td>161.525000</td>\n",
       "      <td>0.107842</td>\n",
       "    </tr>\n",
       "    <tr>\n",
       "      <th>27</th>\n",
       "      <td>2002</td>\n",
       "      <td>171.808333</td>\n",
       "      <td>0.031872</td>\n",
       "    </tr>\n",
       "    <tr>\n",
       "      <th>28</th>\n",
       "      <td>2003</td>\n",
       "      <td>176.525000</td>\n",
       "      <td>0.019312</td>\n",
       "    </tr>\n",
       "    <tr>\n",
       "      <th>29</th>\n",
       "      <td>2004</td>\n",
       "      <td>181.508333</td>\n",
       "      <td>0.041152</td>\n",
       "    </tr>\n",
       "    <tr>\n",
       "      <th>30</th>\n",
       "      <td>2005</td>\n",
       "      <td>186.933333</td>\n",
       "      <td>0.031169</td>\n",
       "    </tr>\n",
       "  </tbody>\n",
       "</table>\n",
       "</div>"
      ],
      "text/plain": [
       "    Year  Cost-Ireland  Annual%change\n",
       "26  2001    161.525000       0.107842\n",
       "27  2002    171.808333       0.031872\n",
       "28  2003    176.525000       0.019312\n",
       "29  2004    181.508333       0.041152\n",
       "30  2005    186.933333       0.031169"
      ]
     },
     "execution_count": 50,
     "metadata": {},
     "output_type": "execute_result"
    }
   ],
   "source": [
    "#show the dataframe\n",
    "df_ireland.head()"
   ]
  },
  {
   "cell_type": "code",
   "execution_count": 51,
   "id": "cd6acd94",
   "metadata": {},
   "outputs": [
    {
     "data": {
      "text/html": [
       "<div>\n",
       "<style scoped>\n",
       "    .dataframe tbody tr th:only-of-type {\n",
       "        vertical-align: middle;\n",
       "    }\n",
       "\n",
       "    .dataframe tbody tr th {\n",
       "        vertical-align: top;\n",
       "    }\n",
       "\n",
       "    .dataframe thead th {\n",
       "        text-align: right;\n",
       "    }\n",
       "</style>\n",
       "<table border=\"1\" class=\"dataframe\">\n",
       "  <thead>\n",
       "    <tr style=\"text-align: right;\">\n",
       "      <th></th>\n",
       "      <th>Year</th>\n",
       "      <th>Cost-Ireland</th>\n",
       "      <th>Annual%change</th>\n",
       "    </tr>\n",
       "  </thead>\n",
       "  <tbody>\n",
       "    <tr>\n",
       "      <th>26</th>\n",
       "      <td>False</td>\n",
       "      <td>False</td>\n",
       "      <td>False</td>\n",
       "    </tr>\n",
       "    <tr>\n",
       "      <th>27</th>\n",
       "      <td>False</td>\n",
       "      <td>False</td>\n",
       "      <td>False</td>\n",
       "    </tr>\n",
       "    <tr>\n",
       "      <th>28</th>\n",
       "      <td>False</td>\n",
       "      <td>False</td>\n",
       "      <td>False</td>\n",
       "    </tr>\n",
       "    <tr>\n",
       "      <th>29</th>\n",
       "      <td>False</td>\n",
       "      <td>False</td>\n",
       "      <td>False</td>\n",
       "    </tr>\n",
       "    <tr>\n",
       "      <th>30</th>\n",
       "      <td>False</td>\n",
       "      <td>False</td>\n",
       "      <td>False</td>\n",
       "    </tr>\n",
       "    <tr>\n",
       "      <th>31</th>\n",
       "      <td>False</td>\n",
       "      <td>False</td>\n",
       "      <td>False</td>\n",
       "    </tr>\n",
       "    <tr>\n",
       "      <th>32</th>\n",
       "      <td>False</td>\n",
       "      <td>False</td>\n",
       "      <td>False</td>\n",
       "    </tr>\n",
       "    <tr>\n",
       "      <th>33</th>\n",
       "      <td>False</td>\n",
       "      <td>False</td>\n",
       "      <td>False</td>\n",
       "    </tr>\n",
       "    <tr>\n",
       "      <th>34</th>\n",
       "      <td>False</td>\n",
       "      <td>False</td>\n",
       "      <td>False</td>\n",
       "    </tr>\n",
       "    <tr>\n",
       "      <th>35</th>\n",
       "      <td>False</td>\n",
       "      <td>False</td>\n",
       "      <td>False</td>\n",
       "    </tr>\n",
       "    <tr>\n",
       "      <th>36</th>\n",
       "      <td>False</td>\n",
       "      <td>False</td>\n",
       "      <td>False</td>\n",
       "    </tr>\n",
       "    <tr>\n",
       "      <th>37</th>\n",
       "      <td>False</td>\n",
       "      <td>False</td>\n",
       "      <td>False</td>\n",
       "    </tr>\n",
       "    <tr>\n",
       "      <th>38</th>\n",
       "      <td>False</td>\n",
       "      <td>False</td>\n",
       "      <td>False</td>\n",
       "    </tr>\n",
       "    <tr>\n",
       "      <th>39</th>\n",
       "      <td>False</td>\n",
       "      <td>False</td>\n",
       "      <td>False</td>\n",
       "    </tr>\n",
       "    <tr>\n",
       "      <th>40</th>\n",
       "      <td>False</td>\n",
       "      <td>False</td>\n",
       "      <td>False</td>\n",
       "    </tr>\n",
       "    <tr>\n",
       "      <th>41</th>\n",
       "      <td>False</td>\n",
       "      <td>False</td>\n",
       "      <td>False</td>\n",
       "    </tr>\n",
       "    <tr>\n",
       "      <th>42</th>\n",
       "      <td>False</td>\n",
       "      <td>False</td>\n",
       "      <td>False</td>\n",
       "    </tr>\n",
       "  </tbody>\n",
       "</table>\n",
       "</div>"
      ],
      "text/plain": [
       "     Year  Cost-Ireland  Annual%change\n",
       "26  False         False          False\n",
       "27  False         False          False\n",
       "28  False         False          False\n",
       "29  False         False          False\n",
       "30  False         False          False\n",
       "31  False         False          False\n",
       "32  False         False          False\n",
       "33  False         False          False\n",
       "34  False         False          False\n",
       "35  False         False          False\n",
       "36  False         False          False\n",
       "37  False         False          False\n",
       "38  False         False          False\n",
       "39  False         False          False\n",
       "40  False         False          False\n",
       "41  False         False          False\n",
       "42  False         False          False"
      ]
     },
     "execution_count": 51,
     "metadata": {},
     "output_type": "execute_result"
    }
   ],
   "source": [
    "# checking for null values\n",
    "\n",
    "df_ireland.isnull()"
   ]
  },
  {
   "cell_type": "code",
   "execution_count": 52,
   "id": "d4e619c0",
   "metadata": {},
   "outputs": [
    {
     "data": {
      "image/png": "[encoded data removed]",
      "text/plain": [
       "<Figure size 640x480 with 1 Axes>"
      ]
     },
     "metadata": {},
     "output_type": "display_data"
    }
   ],
   "source": [
    "# plot a histogram to visualize the distribution\n",
    "plt.hist(df_ireland['Cost-Ireland'], bins=20)\n",
    "plt.show()"
   ]
  },
  {
   "cell_type": "code",
   "execution_count": 53,
   "id": "4fbedac0",
   "metadata": {},
   "outputs": [
    {
     "name": "stdout",
     "output_type": "stream",
     "text": [
      "Shapiro-Wilk test: statistic = 0.818, p-value = 0.004\n",
      "df_ireland is not normally distributed\n"
     ]
    }
   ],
   "source": [
    "# perform Shapiro-Wilk test for normality\n",
    "from scipy.stats import shapiro\n",
    "stat, p = shapiro(df_ireland['Cost-Ireland'])\n",
    "                             \n",
    "print('Shapiro-Wilk test: statistic = {:.3f}, p-value = {:.3f}'.format(stat, p))\n",
    "if p > 0.05:\n",
    "    print('df_ireland is normally distributed')\n",
    "else:\n",
    "    print('df_ireland is not normally distributed')"
   ]
  },
  {
   "cell_type": "markdown",
   "id": "3e912c96",
   "metadata": {},
   "source": [
    "# The Shapiro-Wilk test on df_ireland resulted in a p-value less than 0.05, indicating that the data is not normally distributed.\n",
    "\n",
    "The above tells us that parametric tests are not suitable for the dataset meaning non-parametric tests is better to use methods analysis the data\n"
   ]
  },
  {
   "cell_type": "markdown",
   "id": "75b85c88",
   "metadata": {},
   "source": [
    "# Germany Dataset"
   ]
  },
  {
   "cell_type": "code",
   "execution_count": 54,
   "id": "2890c3f3",
   "metadata": {},
   "outputs": [
    {
     "data": {
      "text/html": [
       "<div>\n",
       "<style scoped>\n",
       "    .dataframe tbody tr th:only-of-type {\n",
       "        vertical-align: middle;\n",
       "    }\n",
       "\n",
       "    .dataframe tbody tr th {\n",
       "        vertical-align: top;\n",
       "    }\n",
       "\n",
       "    .dataframe thead th {\n",
       "        text-align: right;\n",
       "    }\n",
       "</style>\n",
       "<table border=\"1\" class=\"dataframe\">\n",
       "  <thead>\n",
       "    <tr style=\"text-align: right;\">\n",
       "      <th></th>\n",
       "      <th>Year</th>\n",
       "      <th>cost-Germany</th>\n",
       "      <th>Annual%change</th>\n",
       "    </tr>\n",
       "  </thead>\n",
       "  <tbody>\n",
       "    <tr>\n",
       "      <th>0</th>\n",
       "      <td>2001</td>\n",
       "      <td>12902204.0</td>\n",
       "      <td>NaN</td>\n",
       "    </tr>\n",
       "    <tr>\n",
       "      <th>1</th>\n",
       "      <td>2002</td>\n",
       "      <td>11563476.0</td>\n",
       "      <td>-0.731407</td>\n",
       "    </tr>\n",
       "    <tr>\n",
       "      <th>2</th>\n",
       "      <td>2003</td>\n",
       "      <td>11581967.0</td>\n",
       "      <td>0.019359</td>\n",
       "    </tr>\n",
       "    <tr>\n",
       "      <th>3</th>\n",
       "      <td>2004</td>\n",
       "      <td>10764582.0</td>\n",
       "      <td>-0.584493</td>\n",
       "    </tr>\n",
       "    <tr>\n",
       "      <th>4</th>\n",
       "      <td>2005</td>\n",
       "      <td>9983634.0</td>\n",
       "      <td>-0.594960</td>\n",
       "    </tr>\n",
       "  </tbody>\n",
       "</table>\n",
       "</div>"
      ],
      "text/plain": [
       "   Year  cost-Germany  Annual%change\n",
       "0  2001    12902204.0            NaN\n",
       "1  2002    11563476.0      -0.731407\n",
       "2  2003    11581967.0       0.019359\n",
       "3  2004    10764582.0      -0.584493\n",
       "4  2005     9983634.0      -0.594960"
      ]
     },
     "execution_count": 54,
     "metadata": {},
     "output_type": "execute_result"
    }
   ],
   "source": [
    "#show head of the dataset\n",
    "df_Germany.head()"
   ]
  },
  {
   "cell_type": "code",
   "execution_count": 55,
   "id": "56f4bef9",
   "metadata": {},
   "outputs": [
    {
     "name": "stdout",
     "output_type": "stream",
     "text": [
      "<class 'pandas.core.frame.DataFrame'>\n",
      "Int64Index: 527 entries, 0 to 763\n",
      "Data columns (total 3 columns):\n",
      " #   Column         Non-Null Count  Dtype  \n",
      "---  ------         --------------  -----  \n",
      " 0   Year           527 non-null    int32  \n",
      " 1   cost-Germany   527 non-null    float64\n",
      " 2   Annual%change  526 non-null    float64\n",
      "dtypes: float64(2), int32(1)\n",
      "memory usage: 14.4 KB\n"
     ]
    }
   ],
   "source": [
    "\n",
    "# information of the dataset\n",
    "df_Germany.info()"
   ]
  },
  {
   "cell_type": "code",
   "execution_count": 56,
   "id": "8bf1609a",
   "metadata": {},
   "outputs": [],
   "source": [
    "# renaming of the columns \n",
    "df_Germany = df_Germany.rename(columns={'Unnamed: 0': 'Year','Estimated cost of construction(Thousand EUR).2':'cost-Germany'})\n"
   ]
  },
  {
   "cell_type": "code",
   "execution_count": 57,
   "id": "74ed3e0c",
   "metadata": {},
   "outputs": [],
   "source": [
    "df_Germany = df_Germany[['Year', 'cost-Germany']]"
   ]
  },
  {
   "cell_type": "code",
   "execution_count": 58,
   "id": "fb3599da",
   "metadata": {},
   "outputs": [],
   "source": [
    "# converting column to int \n",
    "df_Germany['cost-Germany'] = pd.to_numeric(df_Germany['cost-Germany'], errors='coerce')\n",
    "# subset of columns where missing values will be dropping using  dropna \n",
    "df_Germany = df_Germany.dropna(subset=['cost-Germany'])\n",
    "df_Germany['Annual%change'] = df_Germany['cost-Germany'].pct_change(periods=1)\n",
    "df_Germany['Annual%change'] = (1 + df_Germany['Annual%change']).pow(12) - 1"
   ]
  },
  {
   "cell_type": "code",
   "execution_count": 59,
   "id": "2237e9c6",
   "metadata": {},
   "outputs": [],
   "source": [
    "#converting year to datatype int\n",
    "df_Germany['Year'] = df_Germany['Year'].astype(int)"
   ]
  },
  {
   "cell_type": "code",
   "execution_count": 60,
   "id": "b63707f8",
   "metadata": {},
   "outputs": [],
   "source": [
    "df_Germany = df_Germany[df_Germany['Year'].between(2001, 2017)][['Year', 'cost-Germany', 'Annual%change']]\n"
   ]
  },
  {
   "cell_type": "code",
   "execution_count": 61,
   "id": "79e0eb12",
   "metadata": {},
   "outputs": [
    {
     "data": {
      "text/html": [
       "<div>\n",
       "<style scoped>\n",
       "    .dataframe tbody tr th:only-of-type {\n",
       "        vertical-align: middle;\n",
       "    }\n",
       "\n",
       "    .dataframe tbody tr th {\n",
       "        vertical-align: top;\n",
       "    }\n",
       "\n",
       "    .dataframe thead th {\n",
       "        text-align: right;\n",
       "    }\n",
       "</style>\n",
       "<table border=\"1\" class=\"dataframe\">\n",
       "  <thead>\n",
       "    <tr style=\"text-align: right;\">\n",
       "      <th></th>\n",
       "      <th>Year</th>\n",
       "      <th>cost-Germany</th>\n",
       "      <th>Annual%change</th>\n",
       "    </tr>\n",
       "  </thead>\n",
       "  <tbody>\n",
       "    <tr>\n",
       "      <th>0</th>\n",
       "      <td>2001</td>\n",
       "      <td>12902204.0</td>\n",
       "      <td>NaN</td>\n",
       "    </tr>\n",
       "    <tr>\n",
       "      <th>1</th>\n",
       "      <td>2002</td>\n",
       "      <td>11563476.0</td>\n",
       "      <td>-0.731407</td>\n",
       "    </tr>\n",
       "    <tr>\n",
       "      <th>2</th>\n",
       "      <td>2003</td>\n",
       "      <td>11581967.0</td>\n",
       "      <td>0.019359</td>\n",
       "    </tr>\n",
       "    <tr>\n",
       "      <th>3</th>\n",
       "      <td>2004</td>\n",
       "      <td>10764582.0</td>\n",
       "      <td>-0.584493</td>\n",
       "    </tr>\n",
       "    <tr>\n",
       "      <th>4</th>\n",
       "      <td>2005</td>\n",
       "      <td>9983634.0</td>\n",
       "      <td>-0.594960</td>\n",
       "    </tr>\n",
       "  </tbody>\n",
       "</table>\n",
       "</div>"
      ],
      "text/plain": [
       "   Year  cost-Germany  Annual%change\n",
       "0  2001    12902204.0            NaN\n",
       "1  2002    11563476.0      -0.731407\n",
       "2  2003    11581967.0       0.019359\n",
       "3  2004    10764582.0      -0.584493\n",
       "4  2005     9983634.0      -0.594960"
      ]
     },
     "execution_count": 61,
     "metadata": {},
     "output_type": "execute_result"
    }
   ],
   "source": [
    "#the displaying the dataset\n",
    "df_Germany.head()"
   ]
  },
  {
   "cell_type": "code",
   "execution_count": 62,
   "id": "49b83389",
   "metadata": {},
   "outputs": [
    {
     "data": {
      "text/html": [
       "<div>\n",
       "<style scoped>\n",
       "    .dataframe tbody tr th:only-of-type {\n",
       "        vertical-align: middle;\n",
       "    }\n",
       "\n",
       "    .dataframe tbody tr th {\n",
       "        vertical-align: top;\n",
       "    }\n",
       "\n",
       "    .dataframe thead th {\n",
       "        text-align: right;\n",
       "    }\n",
       "</style>\n",
       "<table border=\"1\" class=\"dataframe\">\n",
       "  <thead>\n",
       "    <tr style=\"text-align: right;\">\n",
       "      <th></th>\n",
       "      <th>Year</th>\n",
       "      <th>cost-Germany</th>\n",
       "      <th>Annual%change</th>\n",
       "    </tr>\n",
       "  </thead>\n",
       "  <tbody>\n",
       "    <tr>\n",
       "      <th>count</th>\n",
       "      <td>527.000000</td>\n",
       "      <td>5.270000e+02</td>\n",
       "      <td>5.260000e+02</td>\n",
       "    </tr>\n",
       "    <tr>\n",
       "      <th>mean</th>\n",
       "      <td>2009.000000</td>\n",
       "      <td>2.057982e+06</td>\n",
       "      <td>7.663213e+16</td>\n",
       "    </tr>\n",
       "    <tr>\n",
       "      <th>std</th>\n",
       "      <td>4.903634</td>\n",
       "      <td>2.665463e+06</td>\n",
       "      <td>1.757534e+18</td>\n",
       "    </tr>\n",
       "    <tr>\n",
       "      <th>min</th>\n",
       "      <td>2001.000000</td>\n",
       "      <td>1.990200e+04</td>\n",
       "      <td>-1.000000e+00</td>\n",
       "    </tr>\n",
       "    <tr>\n",
       "      <th>25%</th>\n",
       "      <td>2005.000000</td>\n",
       "      <td>3.157795e+05</td>\n",
       "      <td>-6.335873e-01</td>\n",
       "    </tr>\n",
       "    <tr>\n",
       "      <th>50%</th>\n",
       "      <td>2009.000000</td>\n",
       "      <td>1.096080e+06</td>\n",
       "      <td>3.439739e-01</td>\n",
       "    </tr>\n",
       "    <tr>\n",
       "      <th>75%</th>\n",
       "      <td>2013.000000</td>\n",
       "      <td>2.805948e+06</td>\n",
       "      <td>2.303336e+00</td>\n",
       "    </tr>\n",
       "    <tr>\n",
       "      <th>max</th>\n",
       "      <td>2017.000000</td>\n",
       "      <td>1.686589e+07</td>\n",
       "      <td>4.030849e+19</td>\n",
       "    </tr>\n",
       "  </tbody>\n",
       "</table>\n",
       "</div>"
      ],
      "text/plain": [
       "              Year  cost-Germany  Annual%change\n",
       "count   527.000000  5.270000e+02   5.260000e+02\n",
       "mean   2009.000000  2.057982e+06   7.663213e+16\n",
       "std       4.903634  2.665463e+06   1.757534e+18\n",
       "min    2001.000000  1.990200e+04  -1.000000e+00\n",
       "25%    2005.000000  3.157795e+05  -6.335873e-01\n",
       "50%    2009.000000  1.096080e+06   3.439739e-01\n",
       "75%    2013.000000  2.805948e+06   2.303336e+00\n",
       "max    2017.000000  1.686589e+07   4.030849e+19"
      ]
     },
     "execution_count": 62,
     "metadata": {},
     "output_type": "execute_result"
    }
   ],
   "source": [
    "# description of dataset\n",
    "df_Germany.describe()"
   ]
  },
  {
   "cell_type": "code",
   "execution_count": 63,
   "id": "4a340e13",
   "metadata": {},
   "outputs": [
    {
     "data": {
      "text/plain": [
       "(527, 3)"
      ]
     },
     "execution_count": 63,
     "metadata": {},
     "output_type": "execute_result"
    }
   ],
   "source": [
    "# the shape of the dataset\n",
    "df_Germany.shape"
   ]
  },
  {
   "cell_type": "code",
   "execution_count": 64,
   "id": "013ee648",
   "metadata": {},
   "outputs": [
    {
     "data": {
      "image/png": "[encoded data removed]",
      "text/plain": [
       "<Figure size 640x480 with 1 Axes>"
      ]
     },
     "metadata": {},
     "output_type": "display_data"
    }
   ],
   "source": [
    "# plot a histogram to visualize the distribution\n",
    "plt.hist(df_Germany['cost-Germany'], bins=20)\n",
    "plt.show()"
   ]
  },
  {
   "cell_type": "markdown",
   "id": "5450b178",
   "metadata": {},
   "source": [
    "# Positive skewness indicates that the data are skewed to the right, meaning there are more extreme values on the right side of the distribution"
   ]
  },
  {
   "cell_type": "code",
   "execution_count": 65,
   "id": "a8d88bcd",
   "metadata": {},
   "outputs": [
    {
     "name": "stdout",
     "output_type": "stream",
     "text": [
      "Shapiro-Wilk test: statistic = 0.707, p-value = 0.000\n",
      "df_Germany is not normally distributed\n"
     ]
    }
   ],
   "source": [
    "# perform Shapiro-Wilk test for normality\n",
    "\n",
    "stat, p = shapiro(df_Germany['cost-Germany'])\n",
    "                             \n",
    "print('Shapiro-Wilk test: statistic = {:.3f}, p-value = {:.3f}'.format(stat, p))\n",
    "if p > 0.05:\n",
    "    print('df_Germany is normally distributed')\n",
    "else:\n",
    "    print('df_Germany is not normally distributed')"
   ]
  },
  {
   "cell_type": "code",
   "execution_count": 67,
   "id": "c89694bd",
   "metadata": {},
   "outputs": [
    {
     "name": "stdout",
     "output_type": "stream",
     "text": [
      "Shapiro-Wilk test: statistic = 0.818, p-value = 0.004\n",
      "df_Germany is not normally distributed\n"
     ]
    }
   ],
   "source": [
    "# perform Shapiro-Wilk test for normality\n",
    "\n",
    "stat, p = shapiro(df_ireland['Cost-Ireland'])\n",
    "                             \n",
    "print('Shapiro-Wilk test: statistic = {:.3f}, p-value = {:.3f}'.format(stat, p))\n",
    "if p > 0.05:\n",
    "    print('df_Germany is normally distributed')\n",
    "else:\n",
    "    print('df_Germany is not normally distributed')"
   ]
  },
  {
   "cell_type": "markdown",
   "id": "6e97051d",
   "metadata": {},
   "source": [
    "# Analyse the Ireland and Germany Construction Cost"
   ]
  },
  {
   "cell_type": "markdown",
   "id": "ee9a6a4d",
   "metadata": {},
   "source": [
    "#the cost of living in Ireland increased sharply between 1979 and 1982, and again between 2001 and 2004. The cost of living in Germany, on the other hand, increased sharply between 1978 and 1982, and again between 1992 and 1995."
   ]
  },
  {
   "cell_type": "code",
   "execution_count": 68,
   "id": "76f9534e",
   "metadata": {},
   "outputs": [
    {
     "data": {
      "image/png": "[encoded data removed]",
      "text/plain": [
       "<Figure size 1200x600 with 2 Axes>"
      ]
     },
     "metadata": {},
     "output_type": "display_data"
    }
   ],
   "source": [
    "import matplotlib.pyplot as plt\n",
    "\n",
    "fig, (ax1, ax2) = plt.subplots(1, 2, figsize=(12,6))\n",
    "df_ireland.plot(x='Year', y='Cost-Ireland', ax=ax1)\n",
    "ax1.set_title('Ireland')\n",
    "df_Germany.plot(x='Year', y='cost-Germany', ax=ax2)\n",
    "ax2.set_title('Germany')\n",
    "plt.show()"
   ]
  },
  {
   "cell_type": "code",
   "execution_count": 69,
   "id": "b573b3e6",
   "metadata": {},
   "outputs": [
    {
     "data": {
      "image/png": "[encoded data removed]",
      "text/plain": [
       "<Figure size 1200x500 with 2 Axes>"
      ]
     },
     "metadata": {},
     "output_type": "display_data"
    }
   ],
   "source": [
    "import matplotlib.pyplot as plt\n",
    "\n",
    "fig, (ax1, ax2) = plt.subplots(1, 2, figsize=(12,5))\n",
    "\n",
    "# Line plot for Ireland\n",
    "ax1.plot(df_ireland['Year'], df_ireland['Annual%change'], color='red')\n",
    "ax1.set_xlabel('Year')\n",
    "ax1.set_ylabel('Annual % Change in Cost')\n",
    "ax1.set_title('Annual % Change in Cost in Ireland')\n",
    "\n",
    "# Line plot for Germany\n",
    "ax2.plot(df_Germany['Year'], df_Germany['Annual%change'], color='blue')\n",
    "ax2.set_xlabel('Year')\n",
    "ax2.set_ylabel('Annual % Change in Cost')\n",
    "ax2.set_title('Construction Cost in Germany')\n",
    "\n",
    "plt.show()"
   ]
  },
  {
   "cell_type": "code",
   "execution_count": 70,
   "id": "84290f3b",
   "metadata": {},
   "outputs": [
    {
     "data": {
      "image/png": "[encoded data removed]",
      "text/plain": [
       "<Figure size 800x400 with 2 Axes>"
      ]
     },
     "metadata": {},
     "output_type": "display_data"
    }
   ],
   "source": [
    "fig = plt.figure(figsize=(8, 4))\n",
    "plt.subplot(1,2,1)\n",
    "sns.histplot(df_ireland[\"Cost-Ireland\"], kde=True, stat=\"density\")\n",
    "sns.kdeplot(df_ireland[\"Cost-Ireland\"], color=\"orange\")\n",
    "plt.title(\"Ireland Residentil Contruction Cost\")\n",
    "\n",
    "plt.subplot(1,2,2)\n",
    "sns.histplot(df_Germany[\"cost-Germany\"], kde=True, stat=\"density\")\n",
    "sns.kdeplot(df_Germany[\"cost-Germany\"], color=\"orange\")\n",
    "plt.title(\"Germany Residential Construction Cost\")\n",
    "\n",
    "plt.tight_layout()\n",
    "\n",
    "#plt.savefig(f\"data/pictures/figure2.png\") # Population Normal distribution\n",
    "plt.show()\n",
    "        "
   ]
  },
  {
   "cell_type": "code",
   "execution_count": 71,
   "id": "9455f23b",
   "metadata": {},
   "outputs": [
    {
     "data": {
      "text/html": [
       "<div>\n",
       "<style scoped>\n",
       "    .dataframe tbody tr th:only-of-type {\n",
       "        vertical-align: middle;\n",
       "    }\n",
       "\n",
       "    .dataframe tbody tr th {\n",
       "        vertical-align: top;\n",
       "    }\n",
       "\n",
       "    .dataframe thead th {\n",
       "        text-align: right;\n",
       "    }\n",
       "</style>\n",
       "<table border=\"1\" class=\"dataframe\">\n",
       "  <thead>\n",
       "    <tr style=\"text-align: right;\">\n",
       "      <th></th>\n",
       "      <th>Year</th>\n",
       "      <th>Cost-Ireland</th>\n",
       "      <th>Annual%change</th>\n",
       "    </tr>\n",
       "  </thead>\n",
       "  <tbody>\n",
       "    <tr>\n",
       "      <th>34</th>\n",
       "      <td>2009</td>\n",
       "      <td>206.483333</td>\n",
       "      <td>-0.014543</td>\n",
       "    </tr>\n",
       "    <tr>\n",
       "      <th>36</th>\n",
       "      <td>2011</td>\n",
       "      <td>203.083333</td>\n",
       "      <td>-0.024934</td>\n",
       "    </tr>\n",
       "  </tbody>\n",
       "</table>\n",
       "</div>"
      ],
      "text/plain": [
       "    Year  Cost-Ireland  Annual%change\n",
       "34  2009    206.483333      -0.014543\n",
       "36  2011    203.083333      -0.024934"
      ]
     },
     "execution_count": 71,
     "metadata": {},
     "output_type": "execute_result"
    }
   ],
   "source": [
    "df_ireland[df_ireland[\"Annual%change\"]<0][[\"Year\", \"Cost-Ireland\",\"Annual%change\"]]"
   ]
  },
  {
   "cell_type": "markdown",
   "id": "5cd338f3",
   "metadata": {},
   "source": [
    "# Average and variance"
   ]
  },
  {
   "cell_type": "code",
   "execution_count": 72,
   "id": "3c3ee70f",
   "metadata": {},
   "outputs": [
    {
     "data": {
      "text/plain": [
       "196"
      ]
     },
     "execution_count": 72,
     "metadata": {},
     "output_type": "execute_result"
    }
   ],
   "source": [
    "# Ireland Cost average\n",
    "int(df_ireland[\"Cost-Ireland\"].mean())"
   ]
  },
  {
   "cell_type": "code",
   "execution_count": 73,
   "id": "e35d9383",
   "metadata": {},
   "outputs": [
    {
     "data": {
      "text/plain": [
       "230"
      ]
     },
     "execution_count": 73,
     "metadata": {},
     "output_type": "execute_result"
    }
   ],
   "source": [
    "# Ireland Cost variance\n",
    "int(df_ireland[\"Cost-Ireland\"].var())"
   ]
  },
  {
   "cell_type": "code",
   "execution_count": 74,
   "id": "3400286e",
   "metadata": {},
   "outputs": [
    {
     "data": {
      "text/plain": [
       "15"
      ]
     },
     "execution_count": 74,
     "metadata": {},
     "output_type": "execute_result"
    }
   ],
   "source": [
    "# Ireland Cost std\n",
    "int(df_ireland[\"Cost-Ireland\"].std())"
   ]
  },
  {
   "cell_type": "code",
   "execution_count": 75,
   "id": "1b226758",
   "metadata": {},
   "outputs": [
    {
     "data": {
      "text/plain": [
       "2057981"
      ]
     },
     "execution_count": 75,
     "metadata": {},
     "output_type": "execute_result"
    }
   ],
   "source": [
    "# Germany Cost average\n",
    "int(df_Germany[\"cost-Germany\"].mean())"
   ]
  },
  {
   "cell_type": "code",
   "execution_count": 76,
   "id": "3c0c6b49",
   "metadata": {},
   "outputs": [
    {
     "data": {
      "text/plain": [
       "7104694783805"
      ]
     },
     "execution_count": 76,
     "metadata": {},
     "output_type": "execute_result"
    }
   ],
   "source": [
    "# Germany Cost variance\n",
    "int(df_Germany[\"cost-Germany\"].var())"
   ]
  },
  {
   "cell_type": "code",
   "execution_count": 77,
   "id": "2f800628",
   "metadata": {},
   "outputs": [
    {
     "data": {
      "text/plain": [
       "2665463"
      ]
     },
     "execution_count": 77,
     "metadata": {},
     "output_type": "execute_result"
    }
   ],
   "source": [
    "# Germany Cost std\n",
    "int(df_Germany[\"cost-Germany\"].std())"
   ]
  },
  {
   "cell_type": "markdown",
   "id": "bbc53970",
   "metadata": {},
   "source": [
    "# Average rate : Average of (Germany Construction Cost/Ireland Construction Cost)"
   ]
  },
  {
   "cell_type": "code",
   "execution_count": 78,
   "id": "b2602d09",
   "metadata": {},
   "outputs": [
    {
     "name": "stdout",
     "output_type": "stream",
     "text": [
      "Average rate: 30520.20\n"
     ]
    }
   ],
   "source": [
    "import numpy as np\n",
    "\n",
    "# Calculate the average rate\n",
    "avg_rate = np.mean(df_Germany['cost-Germany'] / df_ireland['Cost-Ireland'])\n",
    "\n",
    "print(\"Average rate: {:.2f}\".format(avg_rate))"
   ]
  },
  {
   "cell_type": "markdown",
   "id": "606d8679",
   "metadata": {},
   "source": [
    "# Non-Parametric Techniques:"
   ]
  },
  {
   "cell_type": "markdown",
   "id": "2c81a0ea",
   "metadata": {},
   "source": [
    "# Spearman's rank correlation coefficient: Ireland and Germany"
   ]
  },
  {
   "cell_type": "code",
   "execution_count": 81,
   "id": "65fa5b52",
   "metadata": {},
   "outputs": [],
   "source": [
    "tmp = pd.merge(df_ireland[[\"Year\", \"Cost-Ireland\"]], df_Germany[[\"Year\", \"cost-Germany\"]], on=\"Year\", how=\"left\")\n",
    "tmp.columns = [\"Year\", \"Cost-Ireland\", \"cost-Germany\"]"
   ]
  },
  {
   "cell_type": "code",
   "execution_count": 82,
   "id": "891f05af",
   "metadata": {},
   "outputs": [
    {
     "name": "stdout",
     "output_type": "stream",
     "text": [
      "correlation coefficient:  0.06798664573146118\n",
      "p value:  0.11903611108589132\n"
     ]
    }
   ],
   "source": [
    "r, p = stats.pearsonr(tmp[\"Cost-Ireland\"], tmp[\"cost-Germany\"])\n",
    "print(\"correlation coefficient: \", r)\n",
    "print(\"p value: \", p)"
   ]
  },
  {
   "cell_type": "markdown",
   "id": "c47e683e",
   "metadata": {},
   "source": [
    "# Mann-Whitney U test:Ireland and Germany"
   ]
  },
  {
   "cell_type": "code",
   "execution_count": 83,
   "id": "f98e937c",
   "metadata": {},
   "outputs": [
    {
     "name": "stdout",
     "output_type": "stream",
     "text": [
      "Mann-Whitney U test statistic:  0.0\n",
      "p-value:  2.1914937077887182e-12\n"
     ]
    }
   ],
   "source": [
    "u_stat, p_val = stats.mannwhitneyu(df_ireland[\"Cost-Ireland\"], df_Germany[\"cost-Germany\"])\n",
    "print(\"Mann-Whitney U test statistic: \", u_stat)\n",
    "print(\"p-value: \", p_val)"
   ]
  },
  {
   "cell_type": "markdown",
   "id": "351376e0",
   "metadata": {},
   "source": [
    "# Wilcoxon : Ireland and Germany"
   ]
  },
  {
   "cell_type": "code",
   "execution_count": 84,
   "id": "ab436d11",
   "metadata": {},
   "outputs": [
    {
     "name": "stdout",
     "output_type": "stream",
     "text": [
      "statistic:  -7.022506413687012\n",
      "p value:  2.179229971586791e-12\n"
     ]
    }
   ],
   "source": [
    "stat, p = stats.ranksums(df_ireland[\"Cost-Ireland\"], df_Germany[\"cost-Germany\"])\n",
    "print(\"statistic: \", stat)\n",
    "print(\"p value: \", p)"
   ]
  },
  {
   "cell_type": "markdown",
   "id": "ee244d6b",
   "metadata": {},
   "source": [
    "# Chi-squared test : Ireland and Germany"
   ]
  },
  {
   "cell_type": "code",
   "execution_count": 85,
   "id": "d78d942e",
   "metadata": {},
   "outputs": [],
   "source": [
    "# contingency table\n",
    "cont_table = pd.crosstab(index=df_ireland[\"Cost-Ireland\"], columns=df_Germany[\"cost-Germany\"])\n",
    "\n",
    "# conduct chi-squared test\n",
    "chi2, p, dof, expected = stats.chi2_contingency(cont_table)\n"
   ]
  },
  {
   "cell_type": "code",
   "execution_count": 86,
   "id": "fbb11a1f",
   "metadata": {},
   "outputs": [
    {
     "name": "stdout",
     "output_type": "stream",
     "text": [
      "Chi-squared test results:\n",
      "Chi-squared statistic: 132.0\n",
      "P-value: 0.23290755488982084\n",
      "Degrees of freedom: 121\n",
      "Expected frequencies:\n",
      "[[0.08333333 0.08333333 0.08333333 0.08333333 0.08333333 0.08333333\n",
      "  0.08333333 0.08333333 0.08333333 0.08333333 0.08333333 0.08333333]\n",
      " [0.08333333 0.08333333 0.08333333 0.08333333 0.08333333 0.08333333\n",
      "  0.08333333 0.08333333 0.08333333 0.08333333 0.08333333 0.08333333]\n",
      " [0.08333333 0.08333333 0.08333333 0.08333333 0.08333333 0.08333333\n",
      "  0.08333333 0.08333333 0.08333333 0.08333333 0.08333333 0.08333333]\n",
      " [0.08333333 0.08333333 0.08333333 0.08333333 0.08333333 0.08333333\n",
      "  0.08333333 0.08333333 0.08333333 0.08333333 0.08333333 0.08333333]\n",
      " [0.08333333 0.08333333 0.08333333 0.08333333 0.08333333 0.08333333\n",
      "  0.08333333 0.08333333 0.08333333 0.08333333 0.08333333 0.08333333]\n",
      " [0.08333333 0.08333333 0.08333333 0.08333333 0.08333333 0.08333333\n",
      "  0.08333333 0.08333333 0.08333333 0.08333333 0.08333333 0.08333333]\n",
      " [0.08333333 0.08333333 0.08333333 0.08333333 0.08333333 0.08333333\n",
      "  0.08333333 0.08333333 0.08333333 0.08333333 0.08333333 0.08333333]\n",
      " [0.08333333 0.08333333 0.08333333 0.08333333 0.08333333 0.08333333\n",
      "  0.08333333 0.08333333 0.08333333 0.08333333 0.08333333 0.08333333]\n",
      " [0.08333333 0.08333333 0.08333333 0.08333333 0.08333333 0.08333333\n",
      "  0.08333333 0.08333333 0.08333333 0.08333333 0.08333333 0.08333333]\n",
      " [0.08333333 0.08333333 0.08333333 0.08333333 0.08333333 0.08333333\n",
      "  0.08333333 0.08333333 0.08333333 0.08333333 0.08333333 0.08333333]\n",
      " [0.08333333 0.08333333 0.08333333 0.08333333 0.08333333 0.08333333\n",
      "  0.08333333 0.08333333 0.08333333 0.08333333 0.08333333 0.08333333]\n",
      " [0.08333333 0.08333333 0.08333333 0.08333333 0.08333333 0.08333333\n",
      "  0.08333333 0.08333333 0.08333333 0.08333333 0.08333333 0.08333333]]\n"
     ]
    }
   ],
   "source": [
    "print(\"Chi-squared test results:\")\n",
    "print(f\"Chi-squared statistic: {chi2}\")\n",
    "print(f\"P-value: {p}\")\n",
    "print(f\"Degrees of freedom: {dof}\")\n",
    "print(\"Expected frequencies:\")\n",
    "print(expected)"
   ]
  },
  {
   "cell_type": "code",
   "execution_count": null,
   "id": "fffc3b8e",
   "metadata": {},
   "outputs": [],
   "source": []
  }
 ],
 "metadata": {
  "kernelspec": {
   "display_name": "Python 3 (ipykernel)",
   "language": "python",
   "name": "python3"
  },
  "language_info": {
   "codemirror_mode": {
    "name": "ipython",
    "version": 3
   },
   "file_extension": ".py",
   "mimetype": "text/x-python",
   "name": "python",
   "nbconvert_exporter": "python",
   "pygments_lexer": "ipython3",
   "version": "3.9.13"
  }
 },
 "nbformat": 4,
 "nbformat_minor": 5
}
